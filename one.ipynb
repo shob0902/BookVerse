{
 "cells": [
  {
   "cell_type": "code",
   "execution_count": null,
   "id": "ba13db17",
   "metadata": {},
   "outputs": [],
   "source": [
    "import numpy as np\n",
    "import pandas as pd"
   ]
  },
  {
   "cell_type": "code",
   "execution_count": null,
   "id": "7810e233",
   "metadata": {},
   "outputs": [],
   "source": [
    "book = pd.read_csv('./Dataset/Books.csv')\n",
    "rating = pd.read_csv('./Dataset/Ratings.csv')\n",
    "user = pd.read_csv('./Dataset/Users.csv')"
   ]
  },
  {
   "cell_type": "markdown",
   "id": "e355dd16",
   "metadata": {},
   "source": [
    "### Popularity Based"
   ]
  },
  {
   "cell_type": "code",
   "execution_count": null,
   "id": "3972322c",
   "metadata": {},
   "outputs": [],
   "source": [
    "rateWithBook = rating.merge(book,on='ISBN')\n",
    "numRateDf = rateWithBook.groupby('Book-Title').count()['Book-Rating'].reset_index()\n",
    "numRateDf.rename(columns={'Book-Rating':'num_rating'}, inplace=True)"
   ]
  },
  {
   "cell_type": "code",
   "execution_count": null,
   "id": "1a6e0239",
   "metadata": {},
   "outputs": [],
   "source": [
    "avgRateDf = rateWithBook.groupby('Book-Title')['Book-Rating'].mean().reset_index()\n",
    "avgRateDf.rename(columns={'Book-Rating':'avg_rating'}, inplace=True)"
   ]
  },
  {
   "cell_type": "code",
   "execution_count": null,
   "id": "a26a2f80",
   "metadata": {},
   "outputs": [],
   "source": [
    "popularityDf = numRateDf.merge(avgRateDf,on='Book-Title')\n",
    "popularDF = popularityDf[popularityDf['num_rating']>=250].sort_values('avg_rating',ascending=False).head(50)"
   ]
  },
  {
   "cell_type": "code",
   "execution_count": null,
   "id": "143af1f1",
   "metadata": {},
   "outputs": [],
   "source": [
    "popularDf = popularDF.merge(book, on='Book-Title').drop_duplicates('Book-Title')[['Book-Title','Book-Author','Image-URL-M','num_rating', 'avg_rating']]\n",
    "popularDf"
   ]
  },
  {
   "cell_type": "code",
   "execution_count": null,
   "id": "ca9499a8",
   "metadata": {},
   "outputs": [],
   "source": [
    "import pickle\n",
    "pickle.dump(popularDf, open('popular.pkl', 'wb'))"
   ]
  },
  {
   "cell_type": "markdown",
   "id": "b2336e86",
   "metadata": {},
   "source": [
    "### Collaborative Based"
   ]
  },
  {
   "cell_type": "code",
   "execution_count": null,
   "id": "7838a745",
   "metadata": {},
   "outputs": [],
   "source": [
    "x = rateWithBook.groupby('User-ID').count()['Book-Rating'] > 200\n",
    "imp_users = x[x].index"
   ]
  },
  {
   "cell_type": "code",
   "execution_count": null,
   "id": "9fff03bc",
   "metadata": {},
   "outputs": [],
   "source": [
    "filtered_rating = rateWithBook[rateWithBook['User-ID'].isin(imp_users)]"
   ]
  },
  {
   "cell_type": "code",
   "execution_count": null,
   "id": "2cf17099",
   "metadata": {},
   "outputs": [],
   "source": [
    "y = filtered_rating.groupby('Book-Title').count()['Book-Rating']>=50\n",
    "famous_books = y[y].index"
   ]
  },
  {
   "cell_type": "code",
   "execution_count": null,
   "id": "374ae0cd",
   "metadata": {},
   "outputs": [],
   "source": [
    "final_ratings = filtered_rating[filtered_rating['Book-Title'].isin(famous_books)]\n",
    "pt = final_ratings.pivot_table(index='Book-Title', columns='User-ID', values='Book-Rating')\n",
    "pt.fillna(0, inplace = True)"
   ]
  },
  {
   "cell_type": "code",
   "execution_count": null,
   "id": "e8f9bb5e",
   "metadata": {},
   "outputs": [],
   "source": [
    "from sklearn.metrics.pairwise import cosine_similarity\n",
    "similarity_score = cosine_similarity(pt)"
   ]
  },
  {
   "cell_type": "code",
   "execution_count": null,
   "id": "59e2ea03",
   "metadata": {},
   "outputs": [],
   "source": [
    "def recommend(book_name):\n",
    "    #index fetch\n",
    "    index = np.where(pt.index==book_name)[0][0]\n",
    "    similar_items = sorted(list(enumerate(similarity_score[index])), key=lambda x:x[1], reverse=True)[1:6]\n",
    "\n",
    "    data = []\n",
    "    for i in similar_items:\n",
    "        item = []\n",
    "        temp_df = book[book['Book-Title'] == pt.index[i[0]]]\n",
    "        item.extend(list(temp_df.drop_duplicates('Book-Title')['Book-Title'].values))\n",
    "        item.extend(list(temp_df.drop_duplicates('Book-Title')['Image-URL-M'].values))\n",
    "        item.extend(list(temp_df.drop_duplicates('Book-Title')['Book-Author'].values))\n",
    "\n",
    "        data.append(item)\n",
    "\n",
    "    return data"
   ]
  },
  {
   "cell_type": "code",
   "execution_count": null,
   "id": "1606e868",
   "metadata": {},
   "outputs": [],
   "source": [
    "pickle.dump(pt, open('pt.pkl', 'wb'))\n",
    "pickle.dump(book, open('books.pkl', 'wb'))\n",
    "pickle.dump(similarity_score, open('similarity_score.pkl', 'wb'))"
   ]
  },
  {
   "cell_type": "code",
   "execution_count": null,
   "id": "c559cb43",
   "metadata": {},
   "outputs": [],
   "source": [
    "recommend('Animal Farm')"
   ]
  }
 ],
 "metadata": {
  "kernelspec": {
   "display_name": "Python 3",
   "language": "python",
   "name": "python3"
  },
  "language_info": {
   "codemirror_mode": {
    "name": "ipython",
    "version": 3
   },
   "file_extension": ".py",
   "mimetype": "text/x-python",
   "name": "python",
   "nbconvert_exporter": "python",
   "pygments_lexer": "ipython3",
   "version": "3.11.0"
  }
 },
 "nbformat": 4,
 "nbformat_minor": 5
}
